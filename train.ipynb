{
  "nbformat": 4,
  "nbformat_minor": 0,
  "metadata": {
    "kernelspec": {
      "display_name": "imageclass",
      "language": "python",
      "name": "imageclass"
    },
    "language_info": {
      "codemirror_mode": {
        "name": "ipython",
        "version": 3
      },
      "file_extension": ".py",
      "mimetype": "text/x-python",
      "name": "python",
      "nbconvert_exporter": "python",
      "pygments_lexer": "ipython3",
      "version": "3.6.9"
    },
    "colab": {
      "name": "Copie de classifier.ipynb",
      "provenance": [],
      "collapsed_sections": []
    },
    "accelerator": "GPU"
  },
  "cells": [
    {
      "cell_type": "markdown",
      "metadata": {
        "id": "fzw7g20ucFwP",
        "colab_type": "text"
      },
      "source": [
        "***TRAINING CONVOLUTIONAL NEURAL NETWORK FOR IMAGE CLASSIFICATION ***\n",
        "\n",
        "this classification model is created using PyTorch machine learning library, A pre-trained deep neural network which was based on the ResNet18 architecture was finetuned. After 24 epochs, the model reaches an accuracy of 96% on the test data which represents 20% of the overall data set.\n"
      ]
    },
    {
      "cell_type": "code",
      "metadata": {
        "id": "AKGyLearnaTB",
        "colab_type": "code",
        "outputId": "b4b38d17-9492-4819-a38c-71485db1cc35",
        "colab": {
          "base_uri": "https://localhost:8080/",
          "height": 153
        }
      },
      "source": [
        "%matplotlib inline\n",
        "!git clone https://gitlab.com/omar.nwt/spacetask.git\n",
        "#uncomment previous line to import structured data"
      ],
      "execution_count": 2,
      "outputs": [
        {
          "output_type": "stream",
          "text": [
            "Cloning into 'spacetask'...\n",
            "remote: Enumerating objects: 27050, done.\u001b[K\n",
            "remote: Counting objects: 100% (27050/27050), done.\u001b[K\n",
            "remote: Compressing objects: 100% (27048/27048), done.\u001b[K\n",
            "remote: Total 27050 (delta 1), reused 27036 (delta 0)\u001b[K\n",
            "Receiving objects: 100% (27050/27050), 165.09 MiB | 12.63 MiB/s, done.\n",
            "Resolving deltas: 100% (1/1), done.\n",
            "Checking out files: 100% (27008/27008), done.\n"
          ],
          "name": "stdout"
        }
      ]
    },
    {
      "cell_type": "code",
      "metadata": {
        "id": "U5GEQ9RTnaTa",
        "colab_type": "code",
        "colab": {}
      },
      "source": [
        "from __future__ import print_function,division\n",
        "\n",
        "import torch\n",
        "import torchvision  \n",
        "import torchvision.transforms as tranys\n",
        "import matplotlib.pyplot as plt\n",
        "import numpy as np\n",
        "import torch.nn as nn\n",
        "import torch.optim as optim\n",
        "from torchvision import models,datasets\n",
        "from torch.optim import lr_scheduler \n",
        "import time\n",
        "import os\n",
        "import copy"
      ],
      "execution_count": 0,
      "outputs": []
    },
    {
      "cell_type": "markdown",
      "metadata": {
        "id": "8SFOHeqie91f",
        "colab_type": "text"
      },
      "source": [
        "**Load Data**"
      ]
    },
    {
      "cell_type": "code",
      "metadata": {
        "scrolled": true,
        "id": "HfLjno4-naTq",
        "colab_type": "code",
        "colab": {}
      },
      "source": [
        "# Data augmentation and normalization for training\n",
        "# Just normalization for validation\n",
        "data_transforms = {\n",
        "    'train': tranys.Compose([\n",
        "        tranys.RandomResizedCrop(224),\n",
        "        tranys.RandomHorizontalFlip(),\n",
        "     #   tranys.ColorJitter(),\n",
        "        tranys.ToTensor(),\n",
        "        tranys.Normalize([0.485,0.456,0.406],[0.229,0.224,0.225])\n",
        "    ]),\n",
        "    'val': tranys.Compose([\n",
        "        tranys.Resize(256),\n",
        "        tranys.CenterCrop(224),\n",
        "        tranys.ToTensor(),\n",
        "        tranys.Normalize([0.485,0.456,0.406],[0.229,0.224,0.225])\n",
        "    ]),\n",
        "    'test': tranys.Compose([\n",
        "        tranys.Resize(256),\n",
        "        tranys.CenterCrop(224),\n",
        "        tranys.ToTensor(),\n",
        "        tranys.Normalize([0.485,0.456,0.406],[0.229,0.224,0.225])\n",
        "    ])\n",
        "}\n",
        "master_f = './spacetask/data'\n",
        "image_datasets = {x: datasets.ImageFolder(os.path.join(master_f,x),\n",
        "                                          data_transforms[x])\n",
        "                 for x in ['train','val','test']}\n",
        "data_loaders={x: torch.utils.data.DataLoader(image_datasets[x],batch_size=4\n",
        "                                             ,shuffle=True, num_workers=4) \n",
        "                 for x in ['train','val','test']}\n",
        "dataset_sizes = {x: len(image_datasets[x]) for x in ['train','val','test']}\n",
        "class_names = image_datasets['train'].classes\n",
        "device = torch.device(\"cuda:0\" if torch.cuda.is_available() else \"cpu\")"
      ],
      "execution_count": 0,
      "outputs": []
    },
    {
      "cell_type": "markdown",
      "metadata": {
        "id": "5UEsywXGfJvi",
        "colab_type": "text"
      },
      "source": [
        "**Visualizing few images**\n",
        "\n",
        "checking the data augmentations."
      ]
    },
    {
      "cell_type": "code",
      "metadata": {
        "scrolled": true,
        "id": "Pp9EcU8unaT8",
        "colab_type": "code",
        "outputId": "6606ecbb-3078-4365-fdf1-a491d1bc4519",
        "colab": {
          "base_uri": "https://localhost:8080/",
          "height": 148
        }
      },
      "source": [
        "def imshow(img, title=None):\n",
        "    img=img.numpy().transpose((1,2,0))\n",
        "    mean = np.array([0.485, 0.456, 0.406])\n",
        "    std = np.array([0.229, 0.224, 0.225])\n",
        "    img = img*std+mean\n",
        "    img = np.clip(img, 0 ,1)\n",
        "    plt.imshow(img)\n",
        "    if title is not None:\n",
        "        plt.title(title)\n",
        "    plt.pause(0.001)  # pause a bit so that plots are updated\n",
        "\n",
        "# Get a batch of training data\n",
        "inputs, classes = next(iter(data_loaders['train']))\n",
        "\n",
        "# Make a grid from batch\n",
        "out = torchvision.utils.make_grid(inputs)\n",
        "\n",
        "imshow(out, title=[class_names[x] for x in classes])\n",
        "        "
      ],
      "execution_count": 5,
      "outputs": [
        {
          "output_type": "display_data",
          "data": {
            "image/png": "[encoded data removed]",
            "text/plain": [
              "<Figure size 432x288 with 1 Axes>"
            ]
          },
          "metadata": {
            "tags": []
          }
        }
      ]
    },
    {
      "cell_type": "markdown",
      "metadata": {
        "id": "ZtWl-CX8f148",
        "colab_type": "text"
      },
      "source": [
        "**Training the model**\n",
        "\n",
        "two very important points:\n",
        "\n",
        "\n",
        "*   Scheduling the learning rate\n",
        "*   Saving the best model\n",
        "\n",
        "\n"
      ]
    },
    {
      "cell_type": "code",
      "metadata": {
        "id": "myDBTR_tnaUb",
        "colab_type": "code",
        "colab": {}
      },
      "source": [
        "def train_model(model, criterion, optimizer, scheduler,num_epochs=4):\n",
        "    since = time.time()\n",
        "    best_model_wts = copy.deepcopy(model.state_dict())\n",
        "    best_acc = 0.0\n",
        "    loss_values_train = []\n",
        "    \n",
        "    for epoch in range(num_epochs):\n",
        "        print('Epoch{}/{}'.format(epoch, num_epochs - 1))\n",
        "        print('-'*10)\n",
        "        \n",
        "\n",
        "        # Each epoch has a training and validation phase\n",
        "        for phase in ['train','val']:\n",
        "            if phase =='train':\n",
        "                model.train()# Set model to training mode\n",
        "            else:\n",
        "                model.eval()\n",
        "                    \n",
        "            running_loss = 0.0 \n",
        "            running_corrects= 0\n",
        "            \n",
        "            \n",
        "            # Iterate over data.\n",
        "            for inputs, labels in data_loaders[phase]:\n",
        "                inputs = inputs.to(device)\n",
        "                labels = labels.to(device)\n",
        "\n",
        "                # zero the parameter gradients\n",
        "                optimizer.zero_grad()\n",
        "                \n",
        "                # forward\n",
        "                # track history if only in train\n",
        "                with torch.set_grad_enabled(phase == 'train'):\n",
        "                    outputs = model(inputs)\n",
        "                    _, preds = torch.max(outputs, 1)\n",
        "                    loss = criterion(outputs,labels)\n",
        "                    \n",
        "                    # backward + optimize only if in training phase\n",
        "                    if phase == 'train':\n",
        "                        loss.backward()\n",
        "                        optimizer.step()\n",
        "\n",
        "                # statistics        \n",
        "                running_loss += loss.item() * inputs.size(0)\n",
        "                running_corrects += torch.sum(preds == labels.data)\n",
        "                \n",
        "            if phase == 'train':\n",
        "                scheduler.step()\n",
        "                loss_values_train.append(running_loss / len(image_datasets[\"train\"]))\n",
        "        \n",
        "            epoch_loss =  running_loss / dataset_sizes[phase]\n",
        "            epoch_acc = running_corrects.double() / dataset_sizes[phase]\n",
        "    \n",
        "            print('{} Loss: {:.4f} Acc: {:.4f}'.format(\n",
        "                phase, epoch_loss,epoch_acc))\n",
        "            \n",
        "            # deep copy the model\n",
        "            if phase == 'val' and epoch_acc > best_acc:\n",
        "                best_acc = epoch_acc\n",
        "                best_model_wts = copy.deepcopy(model.state_dict())\n",
        "               \n",
        "                \n",
        "        print()\n",
        "        \n",
        "    time_elapsed = time.time() - since\n",
        "    print('Training complete in {:.0f}m {:.0f}s'.format(\n",
        "        time_elapsed // 60, time_elapsed % 60 ))\n",
        "    print('best val acc: {:4f}'.format(best_acc))\n",
        "    plt.plot(np.array(loss_values_train), 'r')\n",
        "    \n",
        "    \n",
        "    # load best model weights\n",
        "    model.load_state_dict(best_model_wts)\n",
        "    return model"
      ],
      "execution_count": 0,
      "outputs": []
    },
    {
      "cell_type": "markdown",
      "metadata": {
        "id": "1hkeeJdfgwyQ",
        "colab_type": "text"
      },
      "source": [
        "**Visualizing the model predictions**"
      ]
    },
    {
      "cell_type": "code",
      "metadata": {
        "id": "Oc7K7FJtnaUq",
        "colab_type": "code",
        "colab": {}
      },
      "source": [
        "#Generic function to display predictions for a few images\n",
        "def visualize_model(model, num_images=6):\n",
        "    was_training = model.training\n",
        "    model.eval()\n",
        "    images_so_far = 0\n",
        "    fig = plt.figure()\n",
        "\n",
        "    with torch.no_grad():\n",
        "        for i, (inputs, labels) in enumerate(data_loaders['val']):\n",
        "            inputs = inputs.to(device)\n",
        "            labels = labels.to(device)\n",
        "\n",
        "            outputs = model(inputs)\n",
        "            _, preds = torch.max(outputs, 1)\n",
        "\n",
        "            for j in range(inputs.size()[0]):\n",
        "                images_so_far += 1\n",
        "                ax = plt.subplot(num_images//2, 2, images_so_far)\n",
        "                ax.axis('off')\n",
        "                ax.set_title('predicted: {}'.format(class_names[preds[j]]))\n",
        "                imshow(inputs.cpu().data[j])\n",
        "\n",
        "                if images_so_far == num_images:\n",
        "                    model.train(mode=was_training)\n",
        "                    return\n",
        "        model.train(mode=was_training)"
      ],
      "execution_count": 0,
      "outputs": []
    },
    {
      "cell_type": "markdown",
      "metadata": {
        "id": "dmNOjkwsg6Lx",
        "colab_type": "text"
      },
      "source": [
        "**Finetuning the CNN**\n",
        "\n",
        "Loading a pretrained model and reseting final fully connected layer"
      ]
    },
    {
      "cell_type": "code",
      "metadata": {
        "scrolled": true,
        "id": "1HfH05QBnaU4",
        "colab_type": "code",
        "colab": {}
      },
      "source": [
        "model_ft = models.resnet50(pretrained=True)\n",
        "num_ftrs = model_ft.fc.in_features\n",
        "model_ft.fc = nn.Linear(num_ftrs,10)# Here the size of each output sample is set to 10.\n",
        "model_ft = model_ft.to(device)\n",
        "\n",
        "criterion = nn.CrossEntropyLoss()\n",
        "\n",
        "optimizer_ft = optim.SGD(model_ft.parameters(),lr=0.0005,momentum=0.9)\n",
        "#optimizer_ft = optim.RMSprop(model_ft.parameters(),lr=0.001)\n",
        "# Decay LR by a factor of 0.1 every 7 epochs\n",
        "exp_lr_scheduler = lr_scheduler.StepLR(optimizer_ft, step_size=7 , gamma=0.1)"
      ],
      "execution_count": 0,
      "outputs": []
    },
    {
      "cell_type": "markdown",
      "metadata": {
        "id": "YfdKzoT-T3I-",
        "colab_type": "text"
      },
      "source": [
        "**Training and evaluating model**"
      ]
    },
    {
      "cell_type": "code",
      "metadata": {
        "scrolled": true,
        "id": "vPRhuHwwnaVG",
        "colab_type": "code",
        "outputId": "2c675dc3-b3a0-40f7-cddc-44807632e740",
        "colab": {
          "base_uri": "https://localhost:8080/",
          "height": 51
        }
      },
      "source": [
        "model_ft = train_model(model_ft,criterion,optimizer_ft,exp_lr_scheduler,num_epochs=2)"
      ],
      "execution_count": 0,
      "outputs": [
        {
          "output_type": "stream",
          "text": [
            "Epoch0/1\n",
            "----------\n"
          ],
          "name": "stdout"
        }
      ]
    },
    {
      "cell_type": "code",
      "metadata": {
        "id": "S0QfO74MnaVX",
        "colab_type": "code",
        "colab": {}
      },
      "source": [
        "visualize_model(model_ft)"
      ],
      "execution_count": 0,
      "outputs": []
    },
    {
      "cell_type": "markdown",
      "metadata": {
        "id": "ggOAUBMUUGIb",
        "colab_type": "text"
      },
      "source": [
        "Test the network on the test data"
      ]
    },
    {
      "cell_type": "code",
      "metadata": {
        "id": "Y2RaSF2xzIG5",
        "colab_type": "code",
        "outputId": "70b2f9a6-a5b5-4247-cb6b-bfd0948f734f",
        "colab": {
          "base_uri": "https://localhost:8080/",
          "height": 34
        }
      },
      "source": [
        "correct = 0\n",
        "total = 0\n",
        "with torch.no_grad():\n",
        "    for data in data_loaders['test']:\n",
        "        images, labels = data\n",
        "        images = images.to(device)\n",
        "        labels = labels.to(device)\n",
        "        outputs = model_ft(images)\n",
        "        _, predicted = torch.max(outputs.data, 1)\n",
        "        total += labels.size(0)\n",
        "        correct += (predicted == labels).sum().item()\n",
        "\n",
        "print('Accuracy of the network on the test images: %d %%' % (\n",
        "    100 * correct / total))"
      ],
      "execution_count": 19,
      "outputs": [
        {
          "output_type": "stream",
          "text": [
            "Accuracy of the network on the test images: 90 %\n"
          ],
          "name": "stdout"
        }
      ]
    },
    {
      "cell_type": "markdown",
      "metadata": {
        "id": "mviuMGPyiSF6",
        "colab_type": "text"
      },
      "source": [
        "**Saving the model in pt format**"
      ]
    },
    {
      "cell_type": "code",
      "metadata": {
        "id": "1-DMLOW94MHn",
        "colab_type": "code",
        "colab": {}
      },
      "source": [
        "torch.save(model_ft.state_dict(), \"./model30epoch.pt\")\n",
        "from google.colab import files\n",
        "files.download(\"./model30epoch.pt\") "
      ],
      "execution_count": 0,
      "outputs": []
    },
    {
      "cell_type": "markdown",
      "metadata": {
        "id": "iGcZt0OYFKE9",
        "colab_type": "text"
      },
      "source": [
        "**performing inference**"
      ]
    },
    {
      "cell_type": "code",
      "metadata": {
        "id": "8QnWuR45igso",
        "colab_type": "code",
        "colab": {}
      },
      "source": [
        "#performing inference\n",
        "#all you have to do is give image path and model path\n",
        "!./inference.py --img_path ./data/test/River/2004.jpg --mod_path ./models/model24epoch.pt"
      ],
      "execution_count": 0,
      "outputs": []
    }
  ]
}